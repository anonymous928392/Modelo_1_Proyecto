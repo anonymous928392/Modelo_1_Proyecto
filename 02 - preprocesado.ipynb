{
 "nbformat": 4,
 "nbformat_minor": 0,
 "metadata": {
  "colab": {
   "provenance": []
  },
  "kernelspec": {
   "name": "python3",
   "display_name": "Python 3"
  },
  "language_info": {
   "name": "python"
  }
 },
 "cells": [
  {
   "cell_type": "code",
   "metadata": {
    "id": "TOhPyJYaT83W"
   },
   "source": [
    "import numpy as np\n",
    "import pandas as pd\n",
    "import os\n",
    "import random"
   ],
   "outputs": [],
   "execution_count": null
  },
  {
   "cell_type": "code",
   "source": [
    "os.environ['KAGGLE_CONFIG_DIR'] = '.'\n",
    "!kaggle competitions download -c udea-ai-4-eng-20251-pruebas-saber-pro-colombia"
   ],
   "metadata": {
    "colab": {
     "base_uri": "https://localhost:8080/"
    },
    "id": "1DtKzcOyElWJ",
    "outputId": "97d4c79b-4bf3-4edd-dcc3-e53e18e5dfc6"
   },
   "outputs": [],
   "execution_count": null
  },
  {
   "cell_type": "code",
   "source": [
    "!unzip udea-ai-4-eng-20251-pruebas-saber-pro-colombia.zip"
   ],
   "metadata": {
    "colab": {
     "base_uri": "https://localhost:8080/"
    },
    "id": "IGHRicwaFd8v",
    "outputId": "399d0db7-357a-413f-f191-bac5c8dfa105"
   },
   "outputs": [],
   "execution_count": null
  },
  {
   "cell_type": "code",
   "source": [
    "df_train = pd.read_csv('train.csv')\n",
    "df_test = pd.read_csv('test.csv')\n",
    "df_train.head()"
   ],
   "metadata": {
    "colab": {
     "base_uri": "https://localhost:8080/",
     "height": 342
    },
    "id": "01plDfAwD4Zz",
    "outputId": "db40e6e8-9fb9-4e94-e216-8630ef48b4e5"
   },
   "outputs": [],
   "execution_count": null
  },
  {
   "cell_type": "code",
   "source": [
    "df_train.columns"
   ],
   "metadata": {
    "colab": {
     "base_uri": "https://localhost:8080/"
    },
    "id": "NyrH4HXCEN9j",
    "outputId": "f9df1657-a48a-4e99-bf70-7b24b26f08e0"
   },
   "outputs": [],
   "execution_count": null
  },
  {
   "cell_type": "code",
   "source": [
    "!pip install unidecode"
   ],
   "metadata": {
    "colab": {
     "base_uri": "https://localhost:8080/"
    },
    "id": "dP1P_cFCc_Wt",
    "outputId": "f2d3da3f-754d-4d68-bfc6-5f2f0ec3ba46"
   },
   "outputs": [],
   "execution_count": null
  },
  {
   "cell_type": "code",
   "source": [
    "import unidecode\n",
    "def estu_program_normalizado(df):\n",
    "\n",
    "  if pd.isna(row):\n",
    "    return row\n",
    "  row = row.upper().strip()\n",
    "  row = unidecode.unidecode(row)\n",
    "  row = ' '.join(row.split())\n",
    "  return row\n",
    "\n",
    "  df['ESTU_PRGM_ACADEMICO'] = df['ESTU_PRGM_ACADEMICO'].apply(estu_program_normalizado)\n"
   ],
   "metadata": {
    "id": "LXt76Bx5bCOe"
   },
   "outputs": [],
   "execution_count": null
  },
  {
   "cell_type": "code",
   "source": [
    "df_train['ESTU_PRGM_ACADEMICO'].unique()"
   ],
   "metadata": {
    "colab": {
     "base_uri": "https://localhost:8080/"
    },
    "id": "2qgMBLADdjkP",
    "outputId": "bd88bc4f-6e15-450a-b53b-53000d243577"
   },
   "outputs": [],
   "execution_count": null
  },
  {
   "cell_type": "code",
   "source": [
    "p = df_train.isna().sum()\n",
    "p[p!=0]"
   ],
   "metadata": {
    "colab": {
     "base_uri": "https://localhost:8080/",
     "height": 429
    },
    "id": "WDSDKuGLF5oZ",
    "outputId": "e7597ef5-85d1-433e-9e55-e669f3273e91"
   },
   "outputs": [],
   "execution_count": null
  },
  {
   "cell_type": "markdown",
   "source": [],
   "metadata": {
    "id": "ivkFd25-HHya"
   }
  },
  {
   "cell_type": "code",
   "source": [
    "programas = df_train['ESTU_PRGM_DEPARTAMENTO'].unique()\n",
    "programas\n",
    "\n",
    "def estu_program_departamento(df):\n",
    "\n",
    "  department_name = {\n",
    "      'BOGOTÁ': 'BOGOTA',\n",
    "      'NARIÑO': 'NARINO'\n",
    "  }\n",
    "\n",
    "  df['ESTU_PRGM_DEPARTAMENTO'] = df['ESTU_PRGM_DEPARTAMENTO'].str.strip()\n",
    "  df['ESTU_PRGM_DEPARTAMENTO'] = df['ESTU_PRGM_DEPARTAMENTO'].replace(department_name)\n"
   ],
   "metadata": {
    "id": "8gj0xjqwHbfW"
   },
   "outputs": [],
   "execution_count": null
  },
  {
   "cell_type": "code",
   "source": [
    "estrato = df_train['FAMI_ESTRATOVIVIENDA'].unique()\n",
    "estrato\n",
    "\n",
    "def fami_estrato(df):\n",
    "\n",
    "  #Ej: Moda = Estrato 2\n",
    "  moda = df['FAMI_ESTRATOVIVIENDA'].mode()[0]\n",
    "\n",
    "  def fillna(row):\n",
    "    if pd.isna(row):\n",
    "      return moda\n",
    "    return row\n",
    "  df['FAMI_ESTRATOVIVIENDA'] = df['FAMI_ESTRATOVIVIENDA'].apply(fillna)"
   ],
   "metadata": {
    "id": "0zFe6zzqOEgz"
   },
   "outputs": [],
   "execution_count": null
  },
  {
   "cell_type": "code",
   "source": [
    "df_train['FAMI_ESTRATOVIVIENDA'].mode()[0]"
   ],
   "metadata": {
    "colab": {
     "base_uri": "https://localhost:8080/",
     "height": 35
    },
    "id": "35Bd3g6cPMsq",
    "outputId": "07d1fb0e-3479-454a-e53a-95852869858d"
   },
   "outputs": [],
   "execution_count": null
  },
  {
   "cell_type": "code",
   "source": [
    "df_train['FAMI_TIENEINTERNET'].unique() #Sale por probabilidad"
   ],
   "metadata": {
    "colab": {
     "base_uri": "https://localhost:8080/"
    },
    "id": "uqXLR9NJPlDH",
    "outputId": "9a8c5df5-db0d-4686-8960-7ddb7ccbcf61"
   },
   "outputs": [],
   "execution_count": null
  },
  {
   "cell_type": "code",
   "source": [
    "df_train['FAMI_EDUCACIONPADRE'].unique()"
   ],
   "metadata": {
    "colab": {
     "base_uri": "https://localhost:8080/"
    },
    "id": "4GSV0oYRRWkB",
    "outputId": "ef910984-cc74-4147-ef8d-ef3b4c9b72e0"
   },
   "outputs": [],
   "execution_count": null
  },
  {
   "cell_type": "code",
   "source": [
    "df_train['FAMI_EDUCACIONPADRE'].unique() #Hay nan\n",
    "\n",
    "def fami_educacion_padre(df):\n",
    "\n",
    "  moda = df['FAMI_EDUCACIONPADRE'].mode()[0]\n",
    "\n",
    "  def fillna(row):\n",
    "    if pd.isna(row):\n",
    "      return moda\n",
    "    return row\n",
    "  df['FAMI_EDUCACIONPADRE'] = df['FAMI_EDUCACIONPADRE'].apply(fillna)"
   ],
   "metadata": {
    "id": "2gjlwukfRlTQ"
   },
   "outputs": [],
   "execution_count": null
  },
  {
   "cell_type": "code",
   "source": [
    "df_train['FAMI_TIENELAVADORA'].unique() #Hay nan\n",
    "\n",
    "def fami_tienelavadora(df):\n",
    "\n",
    "  percent_si = np.round(df['FAMI_TIENELAVADORA'].value_counts(normalize=True).get('Si', 0), 4)\n",
    "\n",
    "  def fillna(row):\n",
    "    estrato = row['FAMI_ESTRATOVIVIENDA']\n",
    "    if pd.isna(row['FAMI_TIENELAVADORA']):\n",
    "      if ((estrato != 'Sin estrato') or (estrato != 'Estrato 1') or (estrato != 'Estrato 2')):\n",
    "          return 'Si'\n",
    "      elif random.random() <= percent_si:\n",
    "          return 'Si'\n",
    "      else:\n",
    "          return 'No'\n",
    "    else:\n",
    "      return row['FAMI_TIENELAVADORA']\n",
    "  df['FAMI_TIENELAVADORA'] = df.apply(fillna, axis=1)"
   ],
   "metadata": {
    "id": "VnapZxtfR59X"
   },
   "outputs": [],
   "execution_count": null
  },
  {
   "cell_type": "code",
   "source": [
    "percent_si = np.round(df_train['FAMI_TIENELAVADORA'].value_counts(normalize=True).get('Si', 0), 4)\n",
    "percent_si"
   ],
   "metadata": {
    "colab": {
     "base_uri": "https://localhost:8080/"
    },
    "id": "dQRJCWQjTXTU",
    "outputId": "41200b76-146b-4c5f-c1d6-594a8d61c24b"
   },
   "outputs": [],
   "execution_count": null
  },
  {
   "cell_type": "code",
   "source": [
    "df_train['FAMI_TIENEINTERNET'].unique()  # Hay nan\n",
    "\n",
    "def fami_tieneinternet(df):\n",
    "    percent_si = np.round(df['FAMI_TIENEINTERNET'].value_counts(normalize=True).get('Si', 0), 4)\n",
    "\n",
    "    def fillna(row):\n",
    "        estrato = row['FAMI_ESTRATOVIVIENDA']\n",
    "        if pd.isna(row['FAMI_TIENEINTERNET']):\n",
    "            if ((estrato != 'Sin estrato') or (estrato != 'Estrato 1') or (estrato != 'Estrato 2')):\n",
    "                return 'Si'\n",
    "            elif random.random() <= percent_si:\n",
    "                return 'Si'\n",
    "            else:\n",
    "                return 'No'\n",
    "        else:\n",
    "            return row['FAMI_TIENEINTERNET']\n",
    "\n",
    "    df['FAMI_TIENEINTERNET'] = df.apply(fillna, axis=1)\n"
   ],
   "metadata": {
    "id": "SbXZTtQPfAw-"
   },
   "outputs": [],
   "execution_count": null
  },
  {
   "cell_type": "code",
   "source": [
    "percent_si = np.round(df_train['FAMI_TIENEINTERNET'].value_counts(normalize=True).get('Si', 0), 4)\n",
    "percent_si"
   ],
   "metadata": {
    "colab": {
     "base_uri": "https://localhost:8080/"
    },
    "id": "CI5wtrJMfozG",
    "outputId": "48934350-896f-417e-ecec-2fa239b7dc03"
   },
   "outputs": [],
   "execution_count": null
  },
  {
   "cell_type": "code",
   "source": [
    "df_train['FAMI_TIENEAUTOMOVIL'].unique()  # Hay nan\n",
    "\n",
    "def fami_tieneautomovil(df):\n",
    "    percent_si = np.round(df['FAMI_TIENEAUTOMOVIL'].value_counts(normalize=True).get('Si', 0), 4)\n",
    "\n",
    "    def fillna(row):\n",
    "        estrato = row['FAMI_ESTRATOVIVIENDA']\n",
    "        if pd.isna(row['FAMI_TIENEAUTOMOVIL']):\n",
    "            if ((estrato != 'Sin estrato') or (estrato != 'Estrato 1') or (estrato != 'Estrato 2')):\n",
    "                return 'Si'\n",
    "            elif random.random() <= percent_si:\n",
    "                return 'Si'\n",
    "            else:\n",
    "                return 'No'\n",
    "        else:\n",
    "            return row['FAMI_TIENEAUTOMOVIL']\n",
    "\n",
    "    df['FAMI_TIENEAUTOMOVIL'] = df.apply(fillna, axis=1)\n"
   ],
   "metadata": {
    "id": "3D2APq6gfEm5"
   },
   "outputs": [],
   "execution_count": null
  },
  {
   "cell_type": "code",
   "source": [
    "percent_si = np.round(df_train['FAMI_TIENEAUTOMOVIL'].value_counts(normalize=True).get('Si', 0), 4)\n",
    "percent_si"
   ],
   "metadata": {
    "colab": {
     "base_uri": "https://localhost:8080/"
    },
    "id": "wcGGrFsvfp-x",
    "outputId": "ac784fdb-a470-46a7-cc7f-a951aad39523"
   },
   "outputs": [],
   "execution_count": null
  },
  {
   "cell_type": "code",
   "source": [
    "df_train['ESTU_PRIVADO_LIBERTAD'].unique() #Se deja quieto"
   ],
   "metadata": {
    "colab": {
     "base_uri": "https://localhost:8080/"
    },
    "id": "1Cpb4T6HUDHT",
    "outputId": "a42b7bc8-67ba-46e2-9e14-0dbfa4930b22"
   },
   "outputs": [],
   "execution_count": null
  },
  {
   "cell_type": "code",
   "source": [
    "df_train['ESTU_PAGOMATRICULAPROPIO'].unique()"
   ],
   "metadata": {
    "colab": {
     "base_uri": "https://localhost:8080/"
    },
    "id": "DXn0Idy8V2ml",
    "outputId": "db1d98c6-2f36-4287-8321-f78dee023b42"
   },
   "outputs": [],
   "execution_count": null
  },
  {
   "cell_type": "code",
   "source": [
    "def estu_pagamatricula(df):\n",
    "\n",
    "  moda = df['ESTU_PAGOMATRICULAPROPIO'].mode()[0]\n",
    "\n",
    "  def fillna(row):\n",
    "    if pd.isna(row):\n",
    "      return moda\n",
    "    return row\n",
    "  df['ESTU_PAGOMATRICULAPROPIO'] = df['ESTU_PAGOMATRICULAPROPIO'].apply(fillna)"
   ],
   "metadata": {
    "id": "KdliorW4WEyF"
   },
   "outputs": [],
   "execution_count": null
  },
  {
   "cell_type": "code",
   "source": [
    "df_train['FAMI_TIENECOMPUTADOR'].unique() #Hay nan\n",
    "\n",
    "def fami_tienecomputador(df):\n",
    "\n",
    "  percent_si = np.round(df['FAMI_TIENECOMPUTADOR'].value_counts(normalize=True).get('Si', 0), 4)\n",
    "\n",
    "  def fillna(row):\n",
    "    estrato = row['FAMI_ESTRATOVIVIENDA']\n",
    "    if pd.isna(row['FAMI_TIENECOMPUTADOR']):\n",
    "      if ((estrato != 'Sin estrato') or (estrato != 'Estrato 1') or (estrato != 'Estrato 2')):\n",
    "          return 'Si'\n",
    "      elif random.random() <= percent_si:\n",
    "          return 'Si'\n",
    "      else:\n",
    "          return 'No'\n",
    "    else:\n",
    "      return row['FAMI_TIENECOMPUTADOR']\n",
    "  df['FAMI_TIENECOMPUTADOR'] = df.apply(fillna, axis=1)"
   ],
   "metadata": {
    "id": "h8rEGnYnWSRn"
   },
   "outputs": [],
   "execution_count": null
  },
  {
   "cell_type": "code",
   "source": [
    "df_train['FAMI_TIENEINTERNET.1'].unique() #? No es lo mismo que FAMI_TIENEINTERNET?"
   ],
   "metadata": {
    "colab": {
     "base_uri": "https://localhost:8080/"
    },
    "id": "yxYj6z1iWpYc",
    "outputId": "d380fe1b-49fa-4c55-94b4-621868448416"
   },
   "outputs": [],
   "execution_count": null
  },
  {
   "cell_type": "code",
   "source": [
    "df_train['FAMI_EDUCACIONMADRE'].unique()"
   ],
   "metadata": {
    "colab": {
     "base_uri": "https://localhost:8080/"
    },
    "id": "4UqIEzlzW2gD",
    "outputId": "8912d0d8-f931-4ca1-e156-84bd2e6dcf05"
   },
   "outputs": [],
   "execution_count": null
  },
  {
   "cell_type": "code",
   "source": [
    "def fami_educacion_madre(df):\n",
    "\n",
    "  moda = df['FAMI_EDUCACIONMADRE'].mode()[0]\n",
    "\n",
    "  def fillna(row):\n",
    "    if pd.isna(row):\n",
    "      return moda\n",
    "    return row\n",
    "  df['FAMI_EDUCACIONMADRE'] = df['FAMI_EDUCACIONMADRE'].apply(fillna)"
   ],
   "metadata": {
    "id": "VVokbuvaXL1z"
   },
   "outputs": [],
   "execution_count": null
  },
  {
   "cell_type": "code",
   "source": [
    "df_train['RENDIMIENTO_GLOBAL'].unique()"
   ],
   "metadata": {
    "colab": {
     "base_uri": "https://localhost:8080/"
    },
    "id": "xjaZhcljXX6i",
    "outputId": "7c8cd8a5-8cd3-4148-a642-7da1046b225b"
   },
   "outputs": [],
   "execution_count": null
  },
  {
   "cell_type": "code",
   "source": [
    "def rendimiento(df):\n",
    "\n",
    "  rendimiento_replace = {\n",
    "      'bajo': 0,\n",
    "      'medio-bajo': 1,\n",
    "      'medio-alto': 2,\n",
    "      'alto': 3\n",
    "  }\n",
    "\n",
    "  df['RENDIMIENTO_GLOBAL'] = df['RENDIMIENTO_GLOBAL'].replace(rendimiento_replace)\n"
   ],
   "metadata": {
    "id": "uhEIXewkXhEi"
   },
   "outputs": [],
   "execution_count": null
  },
  {
   "cell_type": "code",
   "source": [
    "def limpiar_dataset_completo(df):\n",
    "    estu_program_normalizado(df)\n",
    "    estu_program_departamento(df)\n",
    "    fami_estrato(df)\n",
    "    fami_educacion_padre(df)\n",
    "    fami_educacion_madre(df)\n",
    "    fami_tienelavadora(df)\n",
    "    fami_tieneinternet(df)\n",
    "    fami_tieneautomovil(df)\n",
    "    fami_tienecomputador(df)\n",
    "    estu_pagamatricula(df)\n",
    "    rendimiento(df)\n",
    "\n",
    "    return df\n"
   ],
   "metadata": {
    "id": "DJrM0OFdyhu6"
   },
   "outputs": [],
   "execution_count": null
  },
  {
   "cell_type": "code",
   "source": [
    "df_train = pd.read_csv('train.csv')\n",
    "\n",
    "df_train_limpio = limpiar_dataset_completo(df_train)\n",
    "\n",
    "df_train_limpio.to_csv('train_limpio.csv', index=False)\n"
   ],
   "metadata": {
    "colab": {
     "base_uri": "https://localhost:8080/"
    },
    "id": "BoqsRFAxyvb2",
    "outputId": "3f380f77-1872-47e5-ed0c-4ac9df7454b8"
   },
   "outputs": [],
   "execution_count": null
  }
 ]
}
